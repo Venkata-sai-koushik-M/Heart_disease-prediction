{
 "cells": [
  {
   "cell_type": "raw",
   "id": "4cd77a77-46a5-4e73-b378-f073043c1e72",
   "metadata": {
    "vscode": {
     "languageId": "raw"
    }
   },
   "source": [
    "**Introduction**\n",
    "\n",
    "Heart disease is a leading cause of death worldwide. Early detection using machine learning can help in timely diagnosis and treatment. This project builds a predictive model based on patient symptoms and clinical data."
   ]
  },
  {
   "cell_type": "code",
   "execution_count": 1,
   "id": "aa63dd7e-cb39-4f3a-9474-164d845f2cc0",
   "metadata": {},
   "outputs": [],
   "source": [
    "import pandas as pd\n",
    "import numpy as np\n",
    "import matplotlib.pyplot as plt\n",
    "import seaborn as sns\n",
    "from sklearn.model_selection import train_test_split\n",
    "from sklearn.preprocessing import StandardScaler\n",
    "from sklearn.linear_model import LogisticRegression\n",
    "from sklearn.tree import DecisionTreeClassifier\n",
    "from sklearn.metrics import accuracy_score, confusion_matrix, classification_report"
   ]
  },
  {
   "cell_type": "code",
   "execution_count": 2,
   "id": "12338608-a266-44b9-82dc-5cccf9615e1f",
   "metadata": {},
   "outputs": [
    {
     "name": "stdout",
     "output_type": "stream",
     "text": [
      "   RestingBP  Cholesterol  MaxHR  Age  Sex  ChestPainType  ShortnessOfBreath  \\\n",
      "0        125          243    159   53    0              1                  0   \n",
      "1        112          193     85   78    0              0                  1   \n",
      "2        155          139    183   39    1              2                  1   \n",
      "3        174          101     92   69    0              0                  0   \n",
      "4         91          180    191   57    1              3                  0   \n",
      "\n",
      "   PainLocation  NumbnessWeakness  Dizziness  Fainting  FlutteringHeart  \\\n",
      "0             2                 1          0         0                1   \n",
      "1             3                 0          0         0                0   \n",
      "2             2                 1          1         1                0   \n",
      "3             4                 0          1         0                1   \n",
      "4             3                 1          1         0                0   \n",
      "\n",
      "   Swelling  Fatigue  Target  \n",
      "0         1        1       0  \n",
      "1         0        0       0  \n",
      "2         1        1       1  \n",
      "3         1        0       1  \n",
      "4         0        1       0  \n",
      "RestingBP            0\n",
      "Cholesterol          0\n",
      "MaxHR                0\n",
      "Age                  0\n",
      "Sex                  0\n",
      "ChestPainType        0\n",
      "ShortnessOfBreath    0\n",
      "PainLocation         0\n",
      "NumbnessWeakness     0\n",
      "Dizziness            0\n",
      "Fainting             0\n",
      "FlutteringHeart      0\n",
      "Swelling             0\n",
      "Fatigue              0\n",
      "Target               0\n",
      "dtype: int64\n"
     ]
    }
   ],
   "source": [
    "df = pd.read_csv(\"heart_disease_extended_large.csv\")\n",
    "\n",
    "# Display first 5 rows\n",
    "print(df.head())\n",
    "\n",
    "# Step 1: Data Preprocessing\n",
    "# Check for missing values\n",
    "print(df.isnull().sum())\n",
    "\n",
    "# Define Features (X) and Target (y)\n",
    "X = df[['RestingBP', 'Cholesterol', 'MaxHR', 'Age', 'Sex', 'ChestPainType', 'ShortnessOfBreath', 'PainLocation', 'NumbnessWeakness', 'Dizziness', 'Fainting', 'FlutteringHeart', 'Swelling', 'Fatigue']]\n",
    "y = df['Target']\n",
    "\n",
    "# Split data into training and testing sets\n",
    "X_train, X_test, y_train, y_test = train_test_split(X, y, test_size=0.2, random_state=42)\n",
    "\n",
    "# Standardize the data\n",
    "scaler = StandardScaler()\n",
    "X_train = scaler.fit_transform(pd.DataFrame(X_train, columns=X.columns))\n",
    "X_test = scaler.transform(pd.DataFrame(X_test, columns=X.columns))\n"
   ]
  },
  {
   "cell_type": "raw",
   "id": "da4fa529-6799-46eb-bbf4-2fc8b5bfd6b0",
   "metadata": {},
   "source": [
    "Methodology:\n",
    "Data Preprocessing\n",
    "         Handle missing values (if any)\n",
    "         Feature selection\n",
    "         Data normalization using StandardScaler\n",
    "Model Training\n",
    "         Logistic Regression for binary classification\n",
    "         Decision Tree for better interpretability\n",
    "Evaluation\n",
    "         Accuracy Score\n",
    "         Confusion Matrix\n",
    "         Classification Report (Precision, Recall, F1-score)\n"
   ]
  },
  {
   "cell_type": "code",
   "execution_count": 3,
   "id": "978fc757-ed00-42d9-9b79-dee1c398f079",
   "metadata": {},
   "outputs": [],
   "source": [
    "# Step 2: Train Logistic Regression Model\n",
    "log_model = LogisticRegression()\n",
    "log_model.fit(X_train, y_train)\n",
    "\n",
    "# Train Decision Tree Model\n",
    "dt_model = DecisionTreeClassifier(max_depth=5, random_state=42)\n",
    "dt_model.fit(X_train, y_train)\n",
    "\n",
    "# Step 3: Make Predictions\n",
    "log_pred = log_model.predict(X_test)\n",
    "dt_pred = dt_model.predict(X_test)\n"
   ]
  },
  {
   "cell_type": "raw",
   "id": "e89d9b27-c69d-400f-a214-b6755a0d564b",
   "metadata": {},
   "source": [
    "Model Performance\n",
    "After training the model, we evaluate it using the test dataset. The confusion matrix and classification report provide insights into the model's accuracy and effectiveness in predicting heart disease."
   ]
  },
  {
   "cell_type": "code",
   "execution_count": 4,
   "id": "a33395f4-6141-4f36-abc1-9d1c262d5b0c",
   "metadata": {},
   "outputs": [
    {
     "name": "stdout",
     "output_type": "stream",
     "text": [
      "Logistic Regression Accuracy: 0.425\n",
      "Decision Tree Accuracy: 0.595\n"
     ]
    },
    {
     "data": {
      "image/png": "[encoded data removed]",
      "text/plain": [
       "<Figure size 640x480 with 2 Axes>"
      ]
     },
     "metadata": {},
     "output_type": "display_data"
    },
    {
     "data": {
      "image/png": "[encoded data removed]",
      "text/plain": [
       "<Figure size 640x480 with 2 Axes>"
      ]
     },
     "metadata": {},
     "output_type": "display_data"
    },
    {
     "name": "stdout",
     "output_type": "stream",
     "text": [
      "Logistic Regression Report:\n",
      "               precision    recall  f1-score   support\n",
      "\n",
      "           0       0.42      0.30      0.35       104\n",
      "           1       0.43      0.56      0.48        96\n",
      "\n",
      "    accuracy                           0.42       200\n",
      "   macro avg       0.42      0.43      0.42       200\n",
      "weighted avg       0.42      0.42      0.41       200\n",
      "\n",
      "Decision Tree Report:\n",
      "               precision    recall  f1-score   support\n",
      "\n",
      "           0       0.59      0.70      0.64       104\n",
      "           1       0.60      0.48      0.53        96\n",
      "\n",
      "    accuracy                           0.59       200\n",
      "   macro avg       0.60      0.59      0.59       200\n",
      "weighted avg       0.60      0.59      0.59       200\n",
      "\n"
     ]
    }
   ],
   "source": [
    "# Step 4: Evaluate Model Performance\n",
    "print(\"Logistic Regression Accuracy:\", accuracy_score(y_test, log_pred))\n",
    "print(\"Decision Tree Accuracy:\", accuracy_score(y_test, dt_pred))\n",
    "\n",
    "# Confusion Matrix for Logistic Regression\n",
    "conf_matrix_log = confusion_matrix(y_test, log_pred)\n",
    "sns.heatmap(conf_matrix_log, annot=True, fmt='d', cmap='Blues')\n",
    "plt.xlabel(\"Predicted\")\n",
    "plt.ylabel(\"Actual\")\n",
    "plt.title(\"Logistic Regression - Confusion Matrix\")\n",
    "plt.show()\n",
    "\n",
    "# Confusion Matrix for Decision Tree\n",
    "conf_matrix_dt = confusion_matrix(y_test, dt_pred)\n",
    "sns.heatmap(conf_matrix_dt, annot=True, fmt='d', cmap='Oranges')\n",
    "plt.xlabel(\"Predicted\")\n",
    "plt.ylabel(\"Actual\")\n",
    "plt.title(\"Decision Tree - Confusion Matrix\")\n",
    "plt.show()\n",
    "\n",
    "# Classification Reports\n",
    "print(\"Logistic Regression Report:\\n\", classification_report(y_test, log_pred))\n",
    "print(\"Decision Tree Report:\\n\", classification_report(y_test, dt_pred))"
   ]
  },
  {
   "cell_type": "code",
   "execution_count": 5,
   "id": "c9fcb44a-7a08-4afe-a2d9-362e8fc2545c",
   "metadata": {},
   "outputs": [],
   "source": [
    "# Step 5: User Input for Prediction\n",
    "def predict_disease(model, bp, cholesterol, maxhr, age, sex, chest_pain, breath, pain_loc, numbness, dizziness, fainting, flutter, swelling, fatigue):\n",
    "    input_data = np.array([[bp, cholesterol, maxhr, age, sex, chest_pain, breath, pain_loc, numbness, dizziness, fainting, flutter, swelling, fatigue]])\n",
    "    input_df = pd.DataFrame(input_data, columns=X.columns)  # Convert to DataFrame\n",
    "    input_scaled = scaler.transform(input_df)  # Standardize correctly\n",
    "    prediction = model.predict(input_scaled)\n",
    "    \n",
    "    if prediction[0] == 1:\n",
    "        if chest_pain or flutter or racing_heartbeat:\n",
    "            return \"Possible Coronary Artery Disease or Arrhythmia. Seek medical attention.\"\n",
    "        elif fainting or dizziness:\n",
    "            return \"Possible Heart Arrhythmia or Valve Disease. Consult a doctor.\"\n",
    "        elif shortness_of_breath and swelling:\n",
    "            return \"Possible Cardiomyopathy or Congenital Heart Defect. Medical attention recommended.\"\n",
    "        else:\n",
    "            return \"may have heart Disease. Consult a doctor for further evaluation.\"\n",
    "    else:\n",
    "        return \"No Heart Disease detected, but symptoms may indicate other conditions. Seek medical advice if symptoms persist.\"\n"
   ]
  },
  {
   "cell_type": "code",
   "execution_count": 6,
   "id": "a4750a33-f4a8-4ede-b209-6f262ca02973",
   "metadata": {},
   "outputs": [
    {
     "name": "stdout",
     "output_type": "stream",
     "text": [
      "Enter Blood Pressure:  172\n",
      "Enter Cholesterol Level:  200\n",
      "Enter Maximum Heart Rate:  82\n",
      "Enter Age:  35\n",
      "Enter Sex (0 = Female, 1 = Male):  0\n",
      "Enter Chest Pain Type (0 = None, 1 = Mild, 2 = Moderate, 3 = Severe):  0\n",
      "Shortness of Breath (0 = No, 1 = Yes):  0\n",
      "Pain Location (0 = None, 1 = Neck, 2 = Jaw, 3 = Back, 4 = Upper Belly):  0\n",
      "Numbness/Weakness in Limbs (0 = No, 1 = Yes):  0\n",
      "Dizziness (0 = No, 1 = Yes):  1\n",
      "Fainting (0 = No, 1 = Yes):  0\n",
      "Fluttering Heart (0 = No, 1 = Yes):  1\n",
      "Swelling (0 = No, 1 = Yes):  0\n",
      "Fatigue (0 = No, 1 = Yes):  0\n"
     ]
    },
    {
     "name": "stdout",
     "output_type": "stream",
     "text": [
      "Prediction using Logistic Regression: No Heart Disease detected, but symptoms may indicate other conditions. Seek medical advice if symptoms persist.\n",
      "Prediction using Decision Tree: No Heart Disease detected, but symptoms may indicate other conditions. Seek medical advice if symptoms persist.\n"
     ]
    }
   ],
   "source": [
    "\n",
    "# Example Usage\n",
    "bp = float(input(\"Enter Blood Pressure: \"))\n",
    "cholesterol = float(input(\"Enter Cholesterol Level: \"))\n",
    "maxhr = float(input(\"Enter Maximum Heart Rate: \"))\n",
    "age = int(input(\"Enter Age: \"))\n",
    "sex = int(input(\"Enter Sex (0 = Female, 1 = Male): \"))\n",
    "chest_pain = int(input(\"Enter Chest Pain Type (0 = None, 1 = Mild, 2 = Moderate, 3 = Severe): \"))\n",
    "breath = int(input(\"Shortness of Breath (0 = No, 1 = Yes): \"))\n",
    "pain_loc = int(input(\"Pain Location (0 = None, 1 = Neck, 2 = Jaw, 3 = Back, 4 = Upper Belly): \"))\n",
    "numbness = int(input(\"Numbness/Weakness in Limbs (0 = No, 1 = Yes): \"))\n",
    "dizziness = int(input(\"Dizziness (0 = No, 1 = Yes): \"))\n",
    "fainting = int(input(\"Fainting (0 = No, 1 = Yes): \"))\n",
    "flutter = int(input(\"Fluttering Heart (0 = No, 1 = Yes): \"))\n",
    "swelling = int(input(\"Swelling (0 = No, 1 = Yes): \"))\n",
    "fatigue = int(input(\"Fatigue (0 = No, 1 = Yes): \"))\n",
    "\n",
    "print(\"Prediction using Logistic Regression:\", predict_disease(log_model, bp, cholesterol, maxhr, age, sex, chest_pain, breath, pain_loc, numbness, dizziness, fainting, flutter, swelling, fatigue))\n",
    "print(\"Prediction using Decision Tree:\", predict_disease(dt_model, bp, cholesterol, maxhr, age, sex, chest_pain, breath, pain_loc, numbness, dizziness, fainting, flutter, swelling, fatigue))\n"
   ]
  },
  {
   "cell_type": "raw",
   "id": "17dc9d2a-dc7d-4124-bf3b-4ab77f553215",
   "metadata": {},
   "source": [
    "Conclusion\n",
    "This project demonstrates how machine learning can be leveraged for heart disease prediction. By analyzing symptoms and vital signs, we can help doctors make informed decisions and improve patient care."
   ]
  }
 ],
 "metadata": {
  "kernelspec": {
   "display_name": "Python 3 (ipykernel)",
   "language": "python",
   "name": "python3"
  },
  "language_info": {
   "codemirror_mode": {
    "name": "ipython",
    "version": 3
   },
   "file_extension": ".py",
   "mimetype": "text/x-python",
   "name": "python",
   "nbconvert_exporter": "python",
   "pygments_lexer": "ipython3",
   "version": "3.12.7"
  }
 },
 "nbformat": 4,
 "nbformat_minor": 5
}
